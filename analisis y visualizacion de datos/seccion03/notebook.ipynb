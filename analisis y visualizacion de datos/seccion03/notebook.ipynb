{
 "metadata": {
  "language_info": {
   "codemirror_mode": {
    "name": "ipython",
    "version": 3
   },
   "file_extension": ".py",
   "mimetype": "text/x-python",
   "name": "python",
   "nbconvert_exporter": "python",
   "pygments_lexer": "ipython3",
   "version": "3.8.5-final"
  },
  "orig_nbformat": 2,
  "kernelspec": {
   "name": "python3",
   "display_name": "Python 3",
   "language": "python"
  }
 },
 "nbformat": 4,
 "nbformat_minor": 2,
 "cells": [
  {
   "cell_type": "code",
   "execution_count": 1,
   "metadata": {},
   "outputs": [
    {
     "output_type": "stream",
     "name": "stdout",
     "text": [
      "<class 'list'>\n<class 'numpy.ndarray'>\n<class 'numpy.float64'>\n[[ 0  1  2  3  4  5]\n [16 17 14 17 19 15]]\n[0 1 2 3 4 5]\n[16 17 14 17 19 15]\n2\n1\n(2, 6)\n"
     ]
    }
   ],
   "source": [
    "import numpy as np\n",
    "\n",
    "arreglo = np.array([0,1,2,3,4,5])\n",
    "\n",
    "arreglo, type(arreglo)\n",
    "\n",
    "\n",
    "notas = [16,17,14,17,19,15]\n",
    "\n",
    "print(type(notas))\n",
    "ar_notas = np.array(notas, dtype=float)\n",
    "print(type(ar_notas))\n",
    "print(type(ar_notas[0]))\n",
    "\n",
    "ar_notas_todas = np.array(([0,1,2,3,4,5], notas))\n",
    "print(ar_notas_todas)\n",
    "\n",
    "for nodo_nota in ar_notas_todas:\n",
    "    print(nodo_nota)\n",
    "    pass\n",
    "\n",
    "print (ar_notas_todas.ndim)\n",
    "print (ar_notas.ndim)\n",
    "\n",
    "print (ar_notas_todas.shape) #cantidad de filas, cantidad de elementos en las filas"
   ]
  },
  {
   "cell_type": "code",
   "execution_count": 2,
   "metadata": {},
   "outputs": [
    {
     "output_type": "stream",
     "name": "stdout",
     "text": [
      "[[0 0 0]\n [0 0 0]]\n[[1 1 1 1]\n [1 1 1 1]\n [1 1 1 1]]\n[[1. 0. 0. 0.]\n [0. 1. 0. 0.]\n [0. 0. 1. 0.]\n [0. 0. 0. 1.]]\n[[1. 0. 0. 0. 0.]\n [0. 1. 0. 0. 0.]\n [0. 0. 1. 0. 0.]\n [0. 0. 0. 1. 0.]\n [0. 0. 0. 0. 1.]]\n"
     ]
    },
    {
     "output_type": "execute_result",
     "data": {
      "text/plain": [
       "array([0, 2, 4, 6, 8])"
      ]
     },
     "metadata": {},
     "execution_count": 2
    }
   ],
   "source": [
    "#09 arrays multidimensionales\n",
    "\n",
    "\n",
    "zeros = np.zeros((2,3), dtype=int)\n",
    "print(zeros)\n",
    "\n",
    "ones = np.ones((3,4), dtype=int)\n",
    "print(ones)\n",
    "identity = np.identity((4), dtype=float)\n",
    "print(identity)\n",
    "eye = np.eye((5))\n",
    "print(eye)\n",
    "\n",
    "arange = np.arange(0,9,2)\n",
    "arange\n",
    "\n"
   ]
  },
  {
   "cell_type": "code",
   "execution_count": 3,
   "metadata": {},
   "outputs": [],
   "source": [
    "#10 operaciones con array\n",
    "arr1 = np.arange (0,11)\n",
    "arr2 = arr1\n",
    "\n",
    "arrSuma = arr1 + arr2\n",
    "\n",
    "arrResta = arr1 - arr2\n",
    "\n",
    "arrProd = arr1 * arr2\n",
    "\n",
    "arrExp = arr1 ** arr2\n",
    "\n",
    "arrDiv = arr1 / arr2\n"
   ]
  },
  {
   "cell_type": "code",
   "execution_count": 4,
   "metadata": {},
   "outputs": [],
   "source": [
    "#12 Algebra Lineal\n",
    "\n",
    "#Producto de arrays\n",
    "a = np.array([1,2,3], float)\n",
    "b = np.array([0,1,1],float)\n",
    "\n",
    "#producto escalar\n",
    "dotBA = (np.dot(b,a))\n",
    "dotAB = (np.dot(a,b))\n",
    "aDotB = (a.dot(b))\n",
    "\n",
    "#producto de matrices\n",
    "a = np.array([[5,2],[4,8]],float)\n",
    "b = np.array([[2,4],[5,3]], float)\n",
    "dotAB2 = (np.dot(a,b))\n",
    "aArrobaB = (a@b)\n",
    "bArrobaA = (b@a)\n",
    "matmulAB = np.matmul(a,b)\n",
    "\n",
    "\n",
    "#determinante de una matriz\n",
    "aDeterminante = np.array([[8,5],[3,4]])\n",
    "determinante = np.linalg.det(a)\n",
    "\n",
    "#Auto valores y Auto vectores\n",
    "autovectores,autovalores = np.linalg.eig(a)\n",
    "\n"
   ]
  },
  {
   "cell_type": "code",
   "execution_count": 5,
   "metadata": {},
   "outputs": [
    {
     "output_type": "execute_result",
     "data": {
      "text/plain": [
       "8.666666666666666"
      ]
     },
     "metadata": {},
     "execution_count": 5
    }
   ],
   "source": [
    "#13 funciones unarias\n",
    "\n",
    "a = np.array([2,4,9], float)\n",
    "np.mean(a)\n",
    "np.sqrt(a)\n",
    "np.exp(a)\n",
    "np.log(a)\n",
    "\n",
    "np.sin(a)\n",
    "np.median(a)\n",
    "np.std(a)\n",
    "np.var(a)"
   ]
  },
  {
   "cell_type": "code",
   "execution_count": 6,
   "metadata": {},
   "outputs": [
    {
     "output_type": "execute_result",
     "data": {
      "text/plain": [
       "array([ 8, 36, 17, 19,  9])"
      ]
     },
     "metadata": {},
     "execution_count": 6
    }
   ],
   "source": [
    "arr1 = np.array([5,36,17,18,9])\n",
    "arr2 = np.array([8,24,17,19,9])\n",
    "\n",
    "np.add(arr1,arr2)\n",
    "np.subtract(arr1,arr2)\n",
    "np.multiply(arr1,arr2)\n",
    "np.divide(arr1,arr2)\n",
    "np.array_equal(arr1,arr2)\n",
    "np.fmin(arr1,arr2)\n",
    "np.fmax(arr2,arr1)\n"
   ]
  },
  {
   "cell_type": "code",
   "execution_count": 9,
   "metadata": {},
   "outputs": [
    {
     "output_type": "execute_result",
     "data": {
      "text/plain": [
       "array([ 0,  2,  4,  6,  8, 10, 12, 14, 16, 18])"
      ]
     },
     "metadata": {},
     "execution_count": 9
    }
   ],
   "source": [
    "#15 gregar y quitar a array\n",
    "arr = np.arange(0,20,2)\n",
    "arr\n"
   ]
  },
  {
   "cell_type": "code",
   "execution_count": 10,
   "metadata": {},
   "outputs": [],
   "source": [
    "arr_flot = np.random.rand(4,3)"
   ]
  }
 ]
}