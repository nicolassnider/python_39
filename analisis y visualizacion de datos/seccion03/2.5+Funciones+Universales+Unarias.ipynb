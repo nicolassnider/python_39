{
 "cells": [
  {
   "cell_type": "markdown",
   "metadata": {},
   "source": [
    "## <font color=green> 2.5 Funciones universales Unarias </font>\n",
    "\n",
    "### Son funciones que realizan operaciones elemento a elemento sobre datos en un   `ndarray`. \n",
    "\n",
    "### Las funciones _unarias_ comprenden todas las operaciones que reciben un solo array como argumento.\n",
    "\n",
    "|Función|Descripción|\n",
    "|-------|-----------|\n",
    "|`abs`, `fabs`|Calcular el valor absoluto|\n",
    "|`sqrt`|Calcular la raíz cuadrada|\n",
    "|`square`|Calcular el cuadrado|\n",
    "|`exp`|Calcular la exponencial $e^x$|\n",
    "|`log`, `log10`, `log2`, `log1p`|Calcula el Logaritmo natural, en base a 10, 2, y $log(x + 1)$|\n",
    "|`isnan`|Devuelve un array booleano indicando si cada elemento es NaN (Not a Number)|\n",
    "|`sin, cos, tan`| Devuelve un array con el resultado de aplicar la función seno, coseno, y tangente en los valores|\n",
    "|`mean, median, std, var`|Calcula la media aritmética, la mediana, la desviación estándard y la varianza en un array|"
   ]
  },
  {
   "cell_type": "code",
   "execution_count": null,
   "metadata": {},
   "outputs": [],
   "source": [
    "import numpy as np\n",
    "\n",
    "a = np.array([2, 4, 9], float)"
   ]
  },
  {
   "cell_type": "code",
   "execution_count": null,
   "metadata": {},
   "outputs": [],
   "source": [
    "a"
   ]
  },
  {
   "cell_type": "code",
   "execution_count": null,
   "metadata": {},
   "outputs": [],
   "source": [
    "np.sqrt(a)"
   ]
  },
  {
   "cell_type": "code",
   "execution_count": null,
   "metadata": {},
   "outputs": [],
   "source": [
    "np.exp(a)"
   ]
  },
  {
   "cell_type": "code",
   "execution_count": null,
   "metadata": {},
   "outputs": [],
   "source": [
    "np.log(a)"
   ]
  },
  {
   "cell_type": "code",
   "execution_count": null,
   "metadata": {},
   "outputs": [],
   "source": [
    "np.sin(a)"
   ]
  },
  {
   "cell_type": "code",
   "execution_count": null,
   "metadata": {},
   "outputs": [],
   "source": [
    "np.cos(a)"
   ]
  },
  {
   "cell_type": "code",
   "execution_count": null,
   "metadata": {},
   "outputs": [],
   "source": [
    "np.mean(a)"
   ]
  },
  {
   "cell_type": "code",
   "execution_count": null,
   "metadata": {},
   "outputs": [],
   "source": [
    "np.std(a)"
   ]
  },
  {
   "cell_type": "code",
   "execution_count": null,
   "metadata": {},
   "outputs": [],
   "source": [
    "np.var(a)"
   ]
  },
  {
   "cell_type": "code",
   "execution_count": null,
   "metadata": {},
   "outputs": [],
   "source": []
  }
 ],
 "metadata": {
  "kernelspec": {
   "display_name": "Python 3",
   "language": "python",
   "name": "python3"
  },
  "language_info": {
   "codemirror_mode": {
    "name": "ipython",
    "version": 3
   },
   "file_extension": ".py",
   "mimetype": "text/x-python",
   "name": "python",
   "nbconvert_exporter": "python",
   "pygments_lexer": "ipython3",
   "version": "3.7.6"
  }
 },
 "nbformat": 4,
 "nbformat_minor": 4
}
