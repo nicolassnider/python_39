{
 "cells": [
  {
   "cell_type": "code",
   "execution_count": 22,
   "outputs": [],
   "source": [
    "#18 series\n",
    "import numpy as np\n",
    "import pandas as pd"
   ],
   "metadata": {
    "collapsed": false,
    "pycharm": {
     "name": "#%%\n"
    }
   }
  },
  {
   "cell_type": "code",
   "execution_count": 23,
   "metadata": {
    "collapsed": true
   },
   "outputs": [
    {
     "data": {
      "text/plain": "0    0.606115\n1    0.509293\n2    0.012096\n3    0.050116\n4    0.908743\n5    0.552878\n6    0.140447\n7    0.913691\n8    0.061519\n9    0.642810\ndtype: float64"
     },
     "execution_count": 23,
     "metadata": {},
     "output_type": "execute_result"
    }
   ],
   "source": [
    "s = pd.Series([1979,1980,1981,1982])\n",
    "s\n",
    "s.values\n",
    "s.index\n",
    "\n",
    "s= pd.Series([1979,1980,1981,1982,1983], index=['da','va','and','she','gem'])\n",
    "s\n",
    "\n",
    "s2= pd.Series(np.random.rand(10))\n",
    "s2"
   ]
  },
  {
   "cell_type": "code",
   "execution_count": 29,
   "outputs": [
    {
     "data": {
      "text/plain": "0     car\n1    guad\n2     hab\n3    canc\n4    guad\nName: ciudades, dtype: object"
     },
     "execution_count": 29,
     "metadata": {},
     "output_type": "execute_result"
    }
   ],
   "source": [
    "#19 dataframe\n",
    "data = {\n",
    "    'ciudades':['car','guad','hab','canc','guad'],\n",
    "    'poblacion':[10000,5000,3000,1000,2000],\n",
    "    'infectaos':[5000,2500,100,10,3]\n",
    "\n",
    "}\n",
    "\n",
    "df = pd.DataFrame(data)\n",
    "\n",
    "df\n",
    "df['ciudades']\n",
    "df.ciudades"
   ],
   "metadata": {
    "collapsed": false,
    "pycharm": {
     "name": "#%%\n"
    }
   }
  },
  {
   "cell_type": "code",
   "execution_count": 39,
   "outputs": [
    {
     "data": {
      "text/plain": "    0\n0  33\n1  49\n2  13\n3  14\n4   9\n5  40\n6   2\n7  11\n8  18\n9   1",
      "text/html": "<div>\n<style scoped>\n    .dataframe tbody tr th:only-of-type {\n        vertical-align: middle;\n    }\n\n    .dataframe tbody tr th {\n        vertical-align: top;\n    }\n\n    .dataframe thead th {\n        text-align: right;\n    }\n</style>\n<table border=\"1\" class=\"dataframe\">\n  <thead>\n    <tr style=\"text-align: right;\">\n      <th></th>\n      <th>0</th>\n    </tr>\n  </thead>\n  <tbody>\n    <tr>\n      <th>0</th>\n      <td>33</td>\n    </tr>\n    <tr>\n      <th>1</th>\n      <td>49</td>\n    </tr>\n    <tr>\n      <th>2</th>\n      <td>13</td>\n    </tr>\n    <tr>\n      <th>3</th>\n      <td>14</td>\n    </tr>\n    <tr>\n      <th>4</th>\n      <td>9</td>\n    </tr>\n    <tr>\n      <th>5</th>\n      <td>40</td>\n    </tr>\n    <tr>\n      <th>6</th>\n      <td>2</td>\n    </tr>\n    <tr>\n      <th>7</th>\n      <td>11</td>\n    </tr>\n    <tr>\n      <th>8</th>\n      <td>18</td>\n    </tr>\n    <tr>\n      <th>9</th>\n      <td>1</td>\n    </tr>\n  </tbody>\n</table>\n</div>"
     },
     "execution_count": 39,
     "metadata": {},
     "output_type": "execute_result"
    }
   ],
   "source": [
    "#20 operaciones con dataFrame\n",
    "d = [np.random.randint(50,size=(10))]\n",
    "df = pd.DataFrame(d)\n",
    "df = pd.DataFrame(d).T\n",
    "df\n",
    "\n"
   ],
   "metadata": {
    "collapsed": false,
    "pycharm": {
     "name": "#%%\n"
    }
   }
  }
 ],
 "metadata": {
  "kernelspec": {
   "display_name": "Python 3",
   "language": "python",
   "name": "python3"
  },
  "language_info": {
   "codemirror_mode": {
    "name": "ipython",
    "version": 2
   },
   "file_extension": ".py",
   "mimetype": "text/x-python",
   "name": "python",
   "nbconvert_exporter": "python",
   "pygments_lexer": "ipython2",
   "version": "2.7.6"
  }
 },
 "nbformat": 4,
 "nbformat_minor": 0
}